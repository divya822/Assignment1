{
 "cells": [
  {
   "cell_type": "code",
   "execution_count": 17,
   "id": "e4f4e9f0",
   "metadata": {},
   "outputs": [],
   "source": [
    "import re"
   ]
  },
  {
   "cell_type": "markdown",
   "id": "f09b298e",
   "metadata": {},
   "source": [
    "Q1: Write a python program to check that a string contains only a certain set of characters (in this case a-z,A-Z and 0-9)."
   ]
  },
  {
   "cell_type": "code",
   "execution_count": 18,
   "id": "97533dcb",
   "metadata": {},
   "outputs": [
    {
     "name": "stdout",
     "output_type": "stream",
     "text": [
      "Enter any character: xylem\n",
      "True\n"
     ]
    }
   ],
   "source": [
    "character = input(\"Enter any character: \")\n",
    "\n",
    "if re.match(r'^[a-zA-Z0-9]', character):\n",
    "    print(\"True\")\n",
    "else:\n",
    "    print(\"False\")"
   ]
  },
  {
   "cell_type": "markdown",
   "id": "e0ca1da2",
   "metadata": {},
   "source": [
    "Q2: Create a function in python that matches a string that has an a followed by zero or more b's."
   ]
  },
  {
   "cell_type": "code",
   "execution_count": 55,
   "id": "cbda03f8",
   "metadata": {},
   "outputs": [
    {
     "name": "stdout",
     "output_type": "stream",
     "text": [
      "enter the text: ab\n"
     ]
    },
    {
     "data": {
      "text/plain": [
       "'Found a match'"
      ]
     },
     "execution_count": 55,
     "metadata": {},
     "output_type": "execute_result"
    }
   ],
   "source": [
    "def text_match(text):\n",
    "    text=input(\"enter the text: \")\n",
    "    patterns = '^a(b*)$'\n",
    "    if re.search(patterns,text):\n",
    "        return('Found a match')\n",
    "    else:\n",
    "        return('Not matched!')\n",
    "text_match(\"text\")"
   ]
  },
  {
   "cell_type": "markdown",
   "id": "5ab06eaf",
   "metadata": {},
   "source": [
    "Q3: Create a function in python that matches a string that has an a followed by one or more b's."
   ]
  },
  {
   "cell_type": "code",
   "execution_count": 21,
   "id": "bcce8c14",
   "metadata": {},
   "outputs": [
    {
     "name": "stdout",
     "output_type": "stream",
     "text": [
      "Enter the text:cab makes rushes in city\n"
     ]
    },
    {
     "data": {
      "text/plain": [
       "'Match Found'"
      ]
     },
     "execution_count": 21,
     "metadata": {},
     "output_type": "execute_result"
    }
   ],
   "source": [
    "def text_match(text):\n",
    "    text=input(\"Enter the text:\")\n",
    "    patterns = 'ab+?'\n",
    "    if re.search(patterns,text):\n",
    "        return('Match Found')\n",
    "    else:\n",
    "        return('Match not Found')\n",
    "text_match(\"text\")"
   ]
  },
  {
   "cell_type": "markdown",
   "id": "666b69ab",
   "metadata": {},
   "source": [
    "Q4: Create a function in python and use RegEx that matches a string that has an a followed by zero or one 'b'."
   ]
  },
  {
   "cell_type": "code",
   "execution_count": 26,
   "id": "64cd31c2",
   "metadata": {},
   "outputs": [
    {
     "name": "stdout",
     "output_type": "stream",
     "text": [
      "Enter the sentence:the cab on road have abs\n"
     ]
    },
    {
     "data": {
      "text/plain": [
       "'Good Match'"
      ]
     },
     "execution_count": 26,
     "metadata": {},
     "output_type": "execute_result"
    }
   ],
   "source": [
    "def text_match(text):\n",
    "    text=input(\"Enter the sentence:\")\n",
    "    patterns = 'a.?'\n",
    "    if re.search(patterns,text):\n",
    "        return('Good Match')\n",
    "    else:\n",
    "        return('Bad Match')\n",
    "text_match(\"text\")"
   ]
  },
  {
   "cell_type": "markdown",
   "id": "a86cb261",
   "metadata": {},
   "source": [
    "Q5: Write a python program that matches a string that has an a followd by three 'b'."
   ]
  },
  {
   "cell_type": "code",
   "execution_count": 28,
   "id": "d3783af9",
   "metadata": {},
   "outputs": [
    {
     "name": "stdout",
     "output_type": "stream",
     "text": [
      "Enter th sentence:abbb abbbbbb\n"
     ]
    },
    {
     "data": {
      "text/plain": [
       "'Matched'"
      ]
     },
     "execution_count": 28,
     "metadata": {},
     "output_type": "execute_result"
    }
   ],
   "source": [
    "def text_match(text):\n",
    "    text=input(\"Enter th sentence:\")\n",
    "    patterns = 'ab{3}'\n",
    "    if re.search(patterns,text):\n",
    "        return('Matched')\n",
    "    else:\n",
    "        return('Not Matched')\n",
    "text_match(\"text\")"
   ]
  },
  {
   "cell_type": "markdown",
   "id": "bf3dd2be",
   "metadata": {},
   "source": [
    "Q6: Write a egular expression in python to split a string into uppercase letters.\n",
    "Sample text: \"ImportanceOfRegularExpressionInPython\"\n",
    "Output:['Importance','Of','Regular','Expresssion','In','Python']"
   ]
  },
  {
   "cell_type": "code",
   "execution_count": 30,
   "id": "48d4c926",
   "metadata": {},
   "outputs": [
    {
     "data": {
      "text/plain": [
       "['Importance', 'Of', 'Regular', 'Expression', 'In', 'Python']"
      ]
     },
     "execution_count": 30,
     "metadata": {},
     "output_type": "execute_result"
    }
   ],
   "source": [
    "re.findall('.[A-z][a-z]*','ImportanceOfRegularExpressionInPython')"
   ]
  },
  {
   "cell_type": "markdown",
   "id": "ec6c794b",
   "metadata": {},
   "source": [
    "Q7: Write a python program that matches a string that has an a followed by two to three'b'."
   ]
  },
  {
   "cell_type": "code",
   "execution_count": 35,
   "id": "a9bfcb8e",
   "metadata": {},
   "outputs": [
    {
     "name": "stdout",
     "output_type": "stream",
     "text": [
      "Enter th sentence:abbb\n"
     ]
    },
    {
     "data": {
      "text/plain": [
       "'Matched'"
      ]
     },
     "execution_count": 35,
     "metadata": {},
     "output_type": "execute_result"
    }
   ],
   "source": [
    "def text_match(text):\n",
    "    text=input(\"Enter th sentence:\")\n",
    "    patterns = 'ab{2,3}'\n",
    "    if re.search(patterns,text):\n",
    "        return('Matched')\n",
    "    else:\n",
    "        return('Not Matched')\n",
    "text_match(\"text\")"
   ]
  },
  {
   "cell_type": "markdown",
   "id": "1df5e73a",
   "metadata": {},
   "source": [
    "Q8: Write a python program to find sequences of lowercase letters joined with a underscore."
   ]
  },
  {
   "cell_type": "code",
   "execution_count": 36,
   "id": "27e2ef99",
   "metadata": {},
   "outputs": [
    {
     "name": "stdout",
     "output_type": "stream",
     "text": [
      "enter the string:ababab_acacac\n"
     ]
    },
    {
     "data": {
      "text/plain": [
       "'Found a match'"
      ]
     },
     "execution_count": 36,
     "metadata": {},
     "output_type": "execute_result"
    }
   ],
   "source": [
    "def text_match(string):\n",
    "    string=input(\"enter the string:\")\n",
    "    patterns = '^[a-z]+_[a-z]+$'\n",
    "    if re.search(patterns,string):\n",
    "        return('Found a match')\n",
    "    else:\n",
    "        return('Not matched!')\n",
    "text_match(\"string\")"
   ]
  },
  {
   "cell_type": "markdown",
   "id": "7b04d4c2",
   "metadata": {},
   "source": [
    "Q9: Write a python program that matches a string that has an 'a' followed by anything,ending in 'b'."
   ]
  },
  {
   "cell_type": "code",
   "execution_count": 38,
   "id": "496f40b9",
   "metadata": {},
   "outputs": [
    {
     "name": "stdout",
     "output_type": "stream",
     "text": [
      "enter the string:abds\n"
     ]
    },
    {
     "data": {
      "text/plain": [
       "'Not matched!'"
      ]
     },
     "execution_count": 38,
     "metadata": {},
     "output_type": "execute_result"
    }
   ],
   "source": [
    "def text_match(string):\n",
    "    string=input(\"enter the string:\")\n",
    "    patterns = 'a.*?b$'\n",
    "    if re.search(patterns,string):\n",
    "        return('Found a match')\n",
    "    else:\n",
    "        return('Not matched!')\n",
    "text_match(\"string\")"
   ]
  },
  {
   "cell_type": "markdown",
   "id": "bf94edb6",
   "metadata": {},
   "source": [
    "Q10: Write a python program that matches a word at the begining of a string."
   ]
  },
  {
   "cell_type": "code",
   "execution_count": 41,
   "id": "de17fefd",
   "metadata": {},
   "outputs": [
    {
     "name": "stdout",
     "output_type": "stream",
     "text": [
      "Enter the sentence:rain in ring road\n",
      "rain\n"
     ]
    }
   ],
   "source": [
    "s=input(\"Enter the sentence:\")\n",
    "result= re.search(r'^\\w+',s)\n",
    "print(result.group())"
   ]
  },
  {
   "cell_type": "markdown",
   "id": "57420cff",
   "metadata": {},
   "source": [
    "Q11: Write a python program to match a string that contains only upper and lowercase letters, numbers and underscores.  "
   ]
  },
  {
   "cell_type": "code",
   "execution_count": 46,
   "id": "fb0fed78",
   "metadata": {},
   "outputs": [
    {
     "name": "stdout",
     "output_type": "stream",
     "text": [
      "Enter the sentence:abcdAbcd_\n",
      "['a', 'b', 'c', 'd', 'A', 'b', 'c', 'd', '_']\n",
      "Yes, Something found\n"
     ]
    }
   ],
   "source": [
    "s=input(\"Enter the sentence:\")\n",
    "result=re.findall(\"\\w\",s)\n",
    "print(result)\n",
    "if result:\n",
    "    print(\"Yes, Something found\")\n",
    "else:\n",
    "    print(\"No Match\")"
   ]
  },
  {
   "cell_type": "markdown",
   "id": "ccb76f30",
   "metadata": {},
   "source": [
    "Q12: write a python program where string will start with a specific number."
   ]
  },
  {
   "cell_type": "code",
   "execution_count": 63,
   "id": "21645745",
   "metadata": {},
   "outputs": [
    {
     "name": "stdout",
     "output_type": "stream",
     "text": [
      "Enter the sentence:3 dogs are barking in street\n",
      "['3']\n",
      "Done\n"
     ]
    }
   ],
   "source": [
    "string=input(\"Enter the sentence:\")\n",
    "result=re.findall(\"^\\d\",string)\n",
    "print(result)\n",
    "if result:\n",
    "    print(\"Done\")\n",
    "else:\n",
    "    print(\"No\")"
   ]
  },
  {
   "cell_type": "markdown",
   "id": "0cdaa173",
   "metadata": {},
   "source": [
    "Q13: Write a python program to remove leading zeros from an IP address."
   ]
  },
  {
   "cell_type": "code",
   "execution_count": 65,
   "id": "ac8a1d7b",
   "metadata": {},
   "outputs": [
    {
     "name": "stdout",
     "output_type": "stream",
     "text": [
      "Enter ip adress:912.024.786\n",
      "912.24.786\n"
     ]
    }
   ],
   "source": [
    "IP=input(\"Enter ip adress:\")\n",
    "string = re.sub('\\.[0]*','.',IP)\n",
    "print(string)"
   ]
  },
  {
   "cell_type": "markdown",
   "id": "d519bbaf",
   "metadata": {},
   "source": [
    "Q14: Write a regular expression in python to match a date string in the form of Month Name followed by day number and year stored in a text file."
   ]
  },
  {
   "cell_type": "markdown",
   "id": "ed03e6ce",
   "metadata": {},
   "source": [
    "Sample Text: 'On August 15th 1947 that India was declared independent from British colonialism, and the reins of control were handed over to the leaders of the Country'."
   ]
  },
  {
   "cell_type": "markdown",
   "id": "16bba93a",
   "metadata": {},
   "source": [
    "Output: August 15th 1947"
   ]
  },
  {
   "cell_type": "markdown",
   "id": "4baab85b",
   "metadata": {},
   "source": [
    "Hint: re.match() method here"
   ]
  },
  {
   "cell_type": "code",
   "execution_count": null,
   "id": "d7826751",
   "metadata": {},
   "outputs": [],
   "source": []
  },
  {
   "cell_type": "markdown",
   "id": "6fc48d26",
   "metadata": {},
   "source": [
    "Q15: Write a Python program to search a literals string in a string. Go to the editor"
   ]
  },
  {
   "cell_type": "markdown",
   "id": "007d2f10",
   "metadata": {},
   "source": [
    "Sample Text: 'The quick brown fox jumps over the lazy dog'."
   ]
  },
  {
   "cell_type": "markdown",
   "id": "cb2ff736",
   "metadata": {},
   "source": [
    "Searched Words: 'fox','dog','horse'"
   ]
  },
  {
   "cell_type": "code",
   "execution_count": 70,
   "id": "a67a71da",
   "metadata": {},
   "outputs": [
    {
     "name": "stdout",
     "output_type": "stream",
     "text": [
      "searching for %s in %s: (patterns,text)\n",
      "Found\n",
      "searching for %s in %s: (patterns,text)\n",
      "Found\n",
      "searching for %s in %s: (patterns,text)\n",
      "Not Found\n"
     ]
    }
   ],
   "source": [
    "patterns = ['fox','dog','horse']\n",
    "text = 'The quick fox jumps over the lazy dog'\n",
    "for pattern in patterns:\n",
    "    print('searching for %s in %s: (patterns,text)')\n",
    "    if re.search(pattern,text):\n",
    "        print('Found')\n",
    "    else:\n",
    "        print('Not Found')"
   ]
  },
  {
   "cell_type": "markdown",
   "id": "8a7837d0",
   "metadata": {},
   "source": [
    "Q16: Write a python program to search a literals string in a string and also find the location within the original string where the pattern occurs. Sample Text: 'The quick brown fox jumps over the lazy dog'. Searched words: 'fox'"
   ]
  },
  {
   "cell_type": "code",
   "execution_count": 75,
   "id": "8cc0aff4",
   "metadata": {},
   "outputs": [
    {
     "name": "stdout",
     "output_type": "stream",
     "text": [
      "<re.Match object; span=(16, 19), match='fox'>\n"
     ]
    }
   ],
   "source": [
    "pattern = 'fox'\n",
    "text = 'The quick brown fox jumps over the lazy dog'\n",
    "match=re.search(pattern,text)\n",
    "print(match)"
   ]
  },
  {
   "cell_type": "markdown",
   "id": "6ff086e5",
   "metadata": {},
   "source": [
    "Q17: Write a python program to find the substrings within a string. Sample text: 'Python exercise,PHP exercise,C# exercise'. pattern = 'exercise'"
   ]
  },
  {
   "cell_type": "code",
   "execution_count": 76,
   "id": "cac4fe5a",
   "metadata": {},
   "outputs": [
    {
     "name": "stdout",
     "output_type": "stream",
     "text": [
      "<re.Match object; span=(7, 15), match='exercise'>\n"
     ]
    }
   ],
   "source": [
    "pattern = 'exercise'\n",
    "text = 'Python exercise, PHP exercise, C# exercise'\n",
    "match = re.search(pattern,text)\n",
    "print(match)"
   ]
  },
  {
   "cell_type": "markdown",
   "id": "cf3ec470",
   "metadata": {},
   "source": [
    "Q18: Write a Pyhton program to find the occurence and position of the substrings within a string."
   ]
  },
  {
   "cell_type": "code",
   "execution_count": 80,
   "id": "8a566c6d",
   "metadata": {},
   "outputs": [
    {
     "name": "stdout",
     "output_type": "stream",
     "text": [
      "Found \"exercise\" at 7:15\n",
      "Found \"exercise\" at 22:30\n",
      "Found \"exercise\" at 36:44\n"
     ]
    }
   ],
   "source": [
    " pattern = 'exercise'\n",
    "text = 'Python exercise , PHP exercise , C# exercise'\n",
    "for match in re.finditer(pattern,text):\n",
    "    s=match.start()\n",
    "    e=match.end()\n",
    "    print('Found \"%s\" at %d:%d' % (text [s:e],s,e))"
   ]
  },
  {
   "cell_type": "markdown",
   "id": "cf2d40e4",
   "metadata": {},
   "source": [
    "Q19: Write a python program to convert a date of yyyy-mm-dd into dd-mm-yyyy format."
   ]
  },
  {
   "cell_type": "code",
   "execution_count": 87,
   "id": "ee3d520e",
   "metadata": {},
   "outputs": [
    {
     "name": "stdout",
     "output_type": "stream",
     "text": [
      "New date in dd-mm-yyyy -> 15-07-2023\n"
     ]
    }
   ],
   "source": [
    "def change_date_format(date):\n",
    "    return re.sub(r'(\\d{4})-(\\d{1,2})-(\\d{1,2})','\\\\3-\\\\2-\\\\1', date)\n",
    "date1= \"2023-07-15\"\n",
    "print(\"New date in dd-mm-yyyy ->\", change_date_format(date1))"
   ]
  },
  {
   "cell_type": "markdown",
   "id": "f151d822",
   "metadata": {},
   "source": [
    "Q20: Write a Python program to find all words starting with 'a' or 'e' in given string."
   ]
  },
  {
   "cell_type": "code",
   "execution_count": 88,
   "id": "0f6a2464",
   "metadata": {},
   "outputs": [
    {
     "name": "stdout",
     "output_type": "stream",
     "text": [
      "['an', 'apple', 'eaten', 'an', 'ant']\n"
     ]
    }
   ],
   "source": [
    "text=\" an apple is eaten by an ant\"\n",
    "list = re.findall(\"[ae]\\w+\",text)\n",
    "print(list)"
   ]
  },
  {
   "cell_type": "markdown",
   "id": "be29ff08",
   "metadata": {},
   "source": [
    "Q21: Write a python program to separate and print the numbers and their position of a given string."
   ]
  },
  {
   "cell_type": "code",
   "execution_count": 91,
   "id": "02a68e03",
   "metadata": {},
   "outputs": [
    {
     "name": "stdout",
     "output_type": "stream",
     "text": [
      "28\n",
      "position:  11\n",
      "8\n",
      "position:  25\n"
     ]
    }
   ],
   "source": [
    "text = \" There are 28 states and 8 Union Territories in India\"\n",
    "for m in re.finditer(\"\\d+\",text):\n",
    "    print(m.group())\n",
    "    print(\"position: \",m.start())"
   ]
  },
  {
   "cell_type": "markdown",
   "id": "c205658c",
   "metadata": {},
   "source": [
    "Q22: Write a regular expression in Python Program to extract maximum numeric value from a string."
   ]
  },
  {
   "cell_type": "code",
   "execution_count": 93,
   "id": "c92f505b",
   "metadata": {},
   "outputs": [
    {
     "name": "stdout",
     "output_type": "stream",
     "text": [
      "maximum numeric value:  5\n"
     ]
    }
   ],
   "source": [
    "string='a1b2c3d4e5'\n",
    "number=re.findall('\\d+',string)\n",
    "number= map(int, number)\n",
    "print(\"maximum numeric value: \", max(number))"
   ]
  },
  {
   "cell_type": "markdown",
   "id": "d88df4d1",
   "metadata": {},
   "source": [
    "Q23: Write a Regex in Python to put spaces between words  starting with capital letters."
   ]
  },
  {
   "cell_type": "code",
   "execution_count": 100,
   "id": "4c5a9611",
   "metadata": {},
   "outputs": [
    {
     "name": "stdout",
     "output_type": "stream",
     "text": [
      "Rain Rain Everywhere\n"
     ]
    }
   ],
   "source": [
    "def Capital_words_space(str1):\n",
    "    return re.sub(r\"(\\w)([A-Z])\", r\"\\1 \\2\",str1)\n",
    "print(Capital_words_space(\"RainRainEverywhere\"))"
   ]
  },
  {
   "cell_type": "markdown",
   "id": "cddfacf1",
   "metadata": {},
   "source": [
    "Q24: Python regex to find sequences of one upper case letters followed by lower case letters."
   ]
  },
  {
   "cell_type": "code",
   "execution_count": 103,
   "id": "3b11b075",
   "metadata": {},
   "outputs": [
    {
     "name": "stdout",
     "output_type": "stream",
     "text": [
      "enter the string:Python\n"
     ]
    },
    {
     "data": {
      "text/plain": [
       "'Found a match'"
      ]
     },
     "execution_count": 103,
     "metadata": {},
     "output_type": "execute_result"
    }
   ],
   "source": [
    "def text_match(text):\n",
    "    text=input(\"enter the string:\")\n",
    "    patterns = '[A-Z]+[a-z]+$'\n",
    "    if re.search(patterns,text):\n",
    "        return('Found a match')\n",
    "    else:\n",
    "        return('Not matched!')\n",
    "text_match(\"text\")"
   ]
  },
  {
   "cell_type": "markdown",
   "id": "a66db4aa",
   "metadata": {},
   "source": [
    "Q25: Write a python program to remove duplicate words from sentence using Regular Expressions."
   ]
  },
  {
   "cell_type": "code",
   "execution_count": 105,
   "id": "41a9a4b8",
   "metadata": {},
   "outputs": [
    {
     "name": "stdout",
     "output_type": "stream",
     "text": [
      "Original string: \n",
      "Python is a type of snake and Python is a software\n",
      "New String: \n",
      "Python is a type of snake and software\n"
     ]
    }
   ],
   "source": [
    "def unique_list(text_str):\n",
    "    l = text_str.split()\n",
    "    temp = []\n",
    "    for x in l:\n",
    "        if x not in temp:\n",
    "            temp.append(x)\n",
    "    return' '.join(temp)\n",
    "text_str = \"Python is a type of snake and Python is a software\"\n",
    "print(\"Original string: \")\n",
    "print(text_str)\n",
    "print(\"New String: \")\n",
    "print(unique_list(text_str))"
   ]
  },
  {
   "cell_type": "markdown",
   "id": "1c879379",
   "metadata": {},
   "source": [
    "Q26: Write a pyhton program using Regex to accept string ending with alphanumeric character."
   ]
  },
  {
   "cell_type": "code",
   "execution_count": 112,
   "id": "779d981c",
   "metadata": {},
   "outputs": [
    {
     "data": {
      "text/plain": [
       "'Found a match'"
      ]
     },
     "execution_count": 112,
     "metadata": {},
     "output_type": "execute_result"
    }
   ],
   "source": [
    "def check_string(text):\n",
    "    patterns = '[a-zA-z0-9]$'\n",
    "    if (re.search(patterns,text)):\n",
    "        return('Found a match')\n",
    "    else:\n",
    "        return('Not matched!')\n",
    "txt1=\"abd@\"\n",
    "check_string(text)"
   ]
  },
  {
   "cell_type": "markdown",
   "id": "68733c58",
   "metadata": {},
   "source": [
    "Q27: Write a python program using RegEx to extract the hashtags. sample text: \"\"\"RT@kapil_kausik: #Doltiwal I mean #xyzabc is \"hurt\" by #Demonetization as the same has rendered USELESS <ed><U+00A0><U+00BD><ed><U+00B1> \"acquired funds\" No Wo\"\"\".Output: ['#Doltiwal','#xyzabc','#Demonetization'] "
   ]
  },
  {
   "cell_type": "code",
   "execution_count": null,
   "id": "445abeb4",
   "metadata": {},
   "outputs": [],
   "source": []
  },
  {
   "cell_type": "code",
   "execution_count": 116,
   "id": "c94499ee",
   "metadata": {},
   "outputs": [
    {
     "ename": "SyntaxError",
     "evalue": "invalid syntax (Temp/ipykernel_7900/2837515892.py, line 2)",
     "output_type": "error",
     "traceback": [
      "\u001b[1;36m  File \u001b[1;32m\"C:\\Users\\dg239\\AppData\\Local\\Temp/ipykernel_7900/2837515892.py\"\u001b[1;36m, line \u001b[1;32m2\u001b[0m\n\u001b[1;33m    text = \" \"\"\"RT@kapil_kausik: #Doltiwal I mean #xyzabc is \"hurt\" by #Demonetization as the same has rendered USELESS <U+00A0><U+00BD><U+00B1> \"acquired funds\" No Wo\"\"\"\"\"\"    patterns = (r\"#(\\w+)\", text)\u001b[0m\n\u001b[1;37m                ^\u001b[0m\n\u001b[1;31mSyntaxError\u001b[0m\u001b[1;31m:\u001b[0m invalid syntax\n"
     ]
    }
   ],
   "source": [
    "def extract_hashtags(text):\n",
    "    text = \" \"\"\"RT@kapil_kausik: #Doltiwal I mean #xyzabc is \"hurt\" by #Demonetization as the same has rendered USELESS <U+00A0><U+00BD><U+00B1> \"acquired funds\" No Wo\"\"\"\"\"\"    patterns = (r\"#(\\w+)\", text)\n",
    "    hashtag_list= re.findall(patterns,text)\n",
    "    print (hashtag_list)"
   ]
  },
  {
   "cell_type": "code",
   "execution_count": null,
   "id": "308c382b",
   "metadata": {},
   "outputs": [],
   "source": []
  },
  {
   "cell_type": "markdown",
   "id": "512daf4d",
   "metadata": {},
   "source": [
    "Q28: Write a python program using RegEx to remove<U+..> like symbols"
   ]
  },
  {
   "cell_type": "markdown",
   "id": "95e517f1",
   "metadata": {},
   "source": [
    "Check the below sample text, there are strange symbols something of the sort <U+..> all over the place. you need to come up with a gneral Regex that will cover all such symbols."
   ]
  },
  {
   "cell_type": "markdown",
   "id": "d681a3e3",
   "metadata": {},
   "source": [
    "Sample text: \"@Jags123456 Bharat band on 28??<ed><U+00A0><U+00BD><ed><U+00B8><U+00082> Those who are protesting #demonatization are all different party leaders\"."
   ]
  },
  {
   "cell_type": "markdown",
   "id": "bc1f8b94",
   "metadata": {},
   "source": [
    "Output: @Jags123456 Bharat band on 28??<ed><ed>Those who are protesting #demonatization are all different party leaders\"."
   ]
  },
  {
   "cell_type": "code",
   "execution_count": 119,
   "id": "fbaa1c8b",
   "metadata": {},
   "outputs": [],
   "source": [
    "def remove_chars(str1,unwanted_chars):\n",
    "    for i in umwanted_chars:\n",
    "        str1=str1.replace(i,'')\n",
    "        return str1\n",
    "    str1 = \"@Jags123456 Bharat band on 28??<U+00A0><U+00BD><U+00B8><U+00082> Those who are protesting #demonatization are all different party leaders\"\n",
    "    unwanted_chars= [\"<U+00A0>\",\"<U+00BD>\",\"<U+00B8>\",\"<U+00082\"]\n",
    "    print(remove_chars(str1,unwanted_chars))"
   ]
  },
  {
   "cell_type": "markdown",
   "id": "7e4688a1",
   "metadata": {},
   "source": [
    "Q29: Write a python program to extract dates from the text stored in the text file."
   ]
  },
  {
   "cell_type": "markdown",
   "id": "b681ff05",
   "metadata": {},
   "source": [
    "Sample text: Ron was born on 12-09-1992 and he was admitted to school 15-12-1999."
   ]
  },
  {
   "cell_type": "code",
   "execution_count": 130,
   "id": "c13051a7",
   "metadata": {},
   "outputs": [
    {
     "ename": "IndentationError",
     "evalue": "expected an indented block (Temp/ipykernel_7900/3261394424.py, line 3)",
     "output_type": "error",
     "traceback": [
      "\u001b[1;36m  File \u001b[1;32m\"C:\\Users\\dg239\\AppData\\Local\\Temp/ipykernel_7900/3261394424.py\"\u001b[1;36m, line \u001b[1;32m3\u001b[0m\n\u001b[1;33m    f= open(\"C:\\Users\\dg239\\OneDrive\\Documents\\ron\\.txt,r\")\u001b[0m\n\u001b[1;37m    ^\u001b[0m\n\u001b[1;31mIndentationError\u001b[0m\u001b[1;31m:\u001b[0m expected an indented block\n"
     ]
    }
   ],
   "source": [
    "def find_date(f):\n",
    "f= open(\"C:\\Users\\dg239\\OneDrive\\Documents\\ron\\.txt,r\")\n",
    "content = f.read()\n",
    "pattern = re.findall(r'\\d{2}[/-]\\d{2}[/-]\\d{4}',dateString)\n",
    "print(pattern)"
   ]
  },
  {
   "cell_type": "code",
   "execution_count": null,
   "id": "040d33ef",
   "metadata": {},
   "outputs": [],
   "source": []
  },
  {
   "cell_type": "code",
   "execution_count": null,
   "id": "76b2fc55",
   "metadata": {},
   "outputs": [],
   "source": []
  },
  {
   "cell_type": "code",
   "execution_count": null,
   "id": "652c0bd5",
   "metadata": {},
   "outputs": [],
   "source": []
  },
  {
   "cell_type": "code",
   "execution_count": null,
   "id": "3e6bcf9f",
   "metadata": {},
   "outputs": [],
   "source": []
  },
  {
   "cell_type": "markdown",
   "id": "0a305da9",
   "metadata": {},
   "source": [
    "Q30: Write a python program to replace all occurences of a space, comma, or dot with a colon."
   ]
  },
  {
   "cell_type": "markdown",
   "id": "70ff4c1b",
   "metadata": {},
   "source": [
    "Sample text: 'Python Exercises, PHP exercises'"
   ]
  },
  {
   "cell_type": "code",
   "execution_count": 126,
   "id": "2e311e0c",
   "metadata": {},
   "outputs": [
    {
     "name": "stdout",
     "output_type": "stream",
     "text": [
      "Python:Exercises::PHP:exercises\n"
     ]
    }
   ],
   "source": [
    "s= 'Python Exercises, PHP exercises'\n",
    "print(re.sub(\"[ ,.]\",\":\",s))"
   ]
  },
  {
   "cell_type": "code",
   "execution_count": null,
   "id": "d1f4e6fa",
   "metadata": {},
   "outputs": [],
   "source": []
  },
  {
   "cell_type": "code",
   "execution_count": null,
   "id": "f4dff620",
   "metadata": {},
   "outputs": [],
   "source": []
  },
  {
   "cell_type": "code",
   "execution_count": null,
   "id": "870edcbe",
   "metadata": {},
   "outputs": [],
   "source": []
  },
  {
   "cell_type": "code",
   "execution_count": null,
   "id": "ce9f57b8",
   "metadata": {},
   "outputs": [],
   "source": []
  },
  {
   "cell_type": "code",
   "execution_count": null,
   "id": "e14ec07c",
   "metadata": {},
   "outputs": [],
   "source": []
  },
  {
   "cell_type": "code",
   "execution_count": null,
   "id": "52552b44",
   "metadata": {},
   "outputs": [],
   "source": []
  },
  {
   "cell_type": "code",
   "execution_count": null,
   "id": "c0284c81",
   "metadata": {},
   "outputs": [],
   "source": []
  },
  {
   "cell_type": "code",
   "execution_count": null,
   "id": "d4b9a6df",
   "metadata": {},
   "outputs": [],
   "source": []
  },
  {
   "cell_type": "code",
   "execution_count": null,
   "id": "665b465c",
   "metadata": {},
   "outputs": [],
   "source": []
  },
  {
   "cell_type": "code",
   "execution_count": null,
   "id": "a4d49705",
   "metadata": {},
   "outputs": [],
   "source": []
  },
  {
   "cell_type": "code",
   "execution_count": null,
   "id": "d0698fc7",
   "metadata": {},
   "outputs": [],
   "source": []
  },
  {
   "cell_type": "code",
   "execution_count": null,
   "id": "51b30c08",
   "metadata": {},
   "outputs": [],
   "source": []
  },
  {
   "cell_type": "code",
   "execution_count": null,
   "id": "2b0cd3b4",
   "metadata": {},
   "outputs": [],
   "source": []
  },
  {
   "cell_type": "code",
   "execution_count": null,
   "id": "a69cc30d",
   "metadata": {},
   "outputs": [],
   "source": []
  },
  {
   "cell_type": "code",
   "execution_count": null,
   "id": "9cf91ead",
   "metadata": {},
   "outputs": [],
   "source": []
  },
  {
   "cell_type": "code",
   "execution_count": null,
   "id": "5790e279",
   "metadata": {},
   "outputs": [],
   "source": []
  },
  {
   "cell_type": "code",
   "execution_count": null,
   "id": "cf297c4d",
   "metadata": {},
   "outputs": [],
   "source": []
  },
  {
   "cell_type": "code",
   "execution_count": null,
   "id": "80a3ceda",
   "metadata": {},
   "outputs": [],
   "source": []
  },
  {
   "cell_type": "code",
   "execution_count": null,
   "id": "b9a0bc29",
   "metadata": {},
   "outputs": [],
   "source": []
  },
  {
   "cell_type": "code",
   "execution_count": null,
   "id": "922ac3a5",
   "metadata": {},
   "outputs": [],
   "source": []
  },
  {
   "cell_type": "code",
   "execution_count": null,
   "id": "05eb2b6f",
   "metadata": {},
   "outputs": [],
   "source": []
  },
  {
   "cell_type": "code",
   "execution_count": null,
   "id": "ea4e5fdd",
   "metadata": {},
   "outputs": [],
   "source": []
  }
 ],
 "metadata": {
  "kernelspec": {
   "display_name": "Python 3 (ipykernel)",
   "language": "python",
   "name": "python3"
  },
  "language_info": {
   "codemirror_mode": {
    "name": "ipython",
    "version": 3
   },
   "file_extension": ".py",
   "mimetype": "text/x-python",
   "name": "python",
   "nbconvert_exporter": "python",
   "pygments_lexer": "ipython3",
   "version": "3.9.7"
  }
 },
 "nbformat": 4,
 "nbformat_minor": 5
}
